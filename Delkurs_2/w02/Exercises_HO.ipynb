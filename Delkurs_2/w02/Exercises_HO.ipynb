{
 "cells": [
  {
   "cell_type": "markdown",
   "metadata": {},
   "source": [
    "### Exercises from the book"
   ]
  },
  {
   "cell_type": "markdown",
   "metadata": {},
   "source": [
    "1. What is the fundamental idea behind support vector machines?<BR>\n",
    ">*Maximize the decision line thickness/margin between the classes, may be hard or soft*\n",
    "2. What is a support vector?<BR>\n",
    ">*It is the data in respective class with the closest distance to the decision border defining the margin*\n",
    "3. Why is it important to scale the inputs when using SVMs?<BR>\n",
    ">*It minimizes the numerical error in the calculations*\n",
    "6. Say you’ve trained an SVM classifier with an RBF kernel, but it seems to underfit the training set.<BR> Should you increase or decrease γ (gamma)? What about C?<BR>\n",
    ">*Increase gamma (sharper RBF) and C (smaller margin)*\n"
   ]
  },
  {
   "cell_type": "code",
   "execution_count": null,
   "metadata": {},
   "outputs": [],
   "source": []
  }
 ],
 "metadata": {
  "kernelspec": {
   "display_name": "base",
   "language": "python",
   "name": "python3"
  },
  "language_info": {
   "codemirror_mode": {
    "name": "ipython",
    "version": 3
   },
   "file_extension": ".py",
   "mimetype": "text/x-python",
   "name": "python",
   "nbconvert_exporter": "python",
   "pygments_lexer": "ipython3",
   "version": "3.12.7"
  }
 },
 "nbformat": 4,
 "nbformat_minor": 2
}
