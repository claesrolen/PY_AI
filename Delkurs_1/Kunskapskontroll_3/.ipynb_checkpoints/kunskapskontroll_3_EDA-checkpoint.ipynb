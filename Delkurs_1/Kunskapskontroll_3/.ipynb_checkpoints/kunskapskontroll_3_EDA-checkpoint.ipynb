{
 "cells": [
  {
   "cell_type": "markdown",
   "metadata": {},
   "source": [
    "# Exploratory Data Analysis of houses dataset"
   ]
  },
  {
   "cell_type": "markdown",
   "metadata": {},
   "source": [
    "#### General setup"
   ]
  },
  {
   "cell_type": "code",
   "execution_count": 1,
   "metadata": {},
   "outputs": [],
   "source": [
    "# Importing Pandas, numpy and Matplotlib. \n",
    "import pandas as pd\n",
    "import numpy as np\n",
    "import seaborn as sns\n",
    "import matplotlib.pyplot as plt\n",
    "%matplotlib inline\n",
    "\n",
    "# Import csv-data to dataframe\n",
    "df0 = pd.read_csv(r\"housing.csv\")\n"
   ]
  },
  {
   "cell_type": "markdown",
   "metadata": {},
   "source": [
    "#### First glance at data - quality check"
   ]
  },
  {
   "cell_type": "code",
   "execution_count": 2,
   "metadata": {},
   "outputs": [
    {
     "name": "stdout",
     "output_type": "stream",
     "text": [
      "<class 'pandas.core.frame.DataFrame'>\n",
      "RangeIndex: 20640 entries, 0 to 20639\n",
      "Data columns (total 10 columns):\n",
      " #   Column              Non-Null Count  Dtype  \n",
      "---  ------              --------------  -----  \n",
      " 0   longitude           20640 non-null  float64\n",
      " 1   latitude            20640 non-null  float64\n",
      " 2   housing_median_age  20640 non-null  float64\n",
      " 3   total_rooms         20640 non-null  float64\n",
      " 4   total_bedrooms      20433 non-null  float64\n",
      " 5   population          20640 non-null  float64\n",
      " 6   households          20640 non-null  float64\n",
      " 7   median_income       20640 non-null  float64\n",
      " 8   median_house_value  20640 non-null  float64\n",
      " 9   ocean_proximity     20640 non-null  object \n",
      "dtypes: float64(9), object(1)\n",
      "memory usage: 1.6+ MB\n"
     ]
    }
   ],
   "source": [
    "df0.info()"
   ]
  },
  {
   "cell_type": "markdown",
   "metadata": {},
   "source": [
    "We see that there are 207 missing values in *total_bedrooms*, for now remove those rows, should be OK (<10%)."
   ]
  },
  {
   "cell_type": "code",
   "execution_count": 3,
   "metadata": {},
   "outputs": [
    {
     "name": "stdout",
     "output_type": "stream",
     "text": [
      "<class 'pandas.core.frame.DataFrame'>\n",
      "Index: 20433 entries, 0 to 20639\n",
      "Columns: 10 entries, longitude to ocean_proximity\n",
      "dtypes: float64(9), object(1)\n",
      "memory usage: 1.7+ MB\n",
      "None\n",
      "          longitude      latitude  housing_median_age   total_rooms  \\\n",
      "count  20433.000000  20433.000000        20433.000000  20433.000000   \n",
      "mean    -119.570689     35.633221           28.633094   2636.504233   \n",
      "std        2.003578      2.136348           12.591805   2185.269567   \n",
      "min     -124.350000     32.540000            1.000000      2.000000   \n",
      "25%     -121.800000     33.930000           18.000000   1450.000000   \n",
      "50%     -118.490000     34.260000           29.000000   2127.000000   \n",
      "75%     -118.010000     37.720000           37.000000   3143.000000   \n",
      "max     -114.310000     41.950000           52.000000  39320.000000   \n",
      "\n",
      "       total_bedrooms    population    households  median_income  \\\n",
      "count    20433.000000  20433.000000  20433.000000   20433.000000   \n",
      "mean       537.870553   1424.946949    499.433465       3.871162   \n",
      "std        421.385070   1133.208490    382.299226       1.899291   \n",
      "min          1.000000      3.000000      1.000000       0.499900   \n",
      "25%        296.000000    787.000000    280.000000       2.563700   \n",
      "50%        435.000000   1166.000000    409.000000       3.536500   \n",
      "75%        647.000000   1722.000000    604.000000       4.744000   \n",
      "max       6445.000000  35682.000000   6082.000000      15.000100   \n",
      "\n",
      "       median_house_value  \n",
      "count        20433.000000  \n",
      "mean        206864.413155  \n",
      "std         115435.667099  \n",
      "min          14999.000000  \n",
      "25%         119500.000000  \n",
      "50%         179700.000000  \n",
      "75%         264700.000000  \n",
      "max         500001.000000  \n"
     ]
    }
   ],
   "source": [
    "# Remove missing values. Show some statistics for the numerical categories\n",
    "df =df0.dropna()\n",
    "print(df.info(verbose=False))\n",
    "print(df.describe())\n",
    "\n",
    "# Prepare some suitable column list cases\n",
    "col_all_num = ['latitude','longitude','housing_median_age','total_rooms','total_bedrooms','population','households','median_income','median_house_value']\n",
    "col_cat = ['housing_median_age','total_rooms','total_bedrooms','population','households','median_income','median_house_value']\n",
    "# Lets have a look at the data ... \n",
    "ax=df.hist(column=col_all_num, bins=30,figsize=(15,4),layout=(2,5))\n"
   ]
  },
  {
   "cell_type": "markdown",
   "metadata": {},
   "source": [
    "OK, some columns have been truncated, *median_house_value* and *housing_median_age*, lets keep them as is for now"
   ]
  },
  {
   "cell_type": "markdown",
   "metadata": {},
   "source": [
    "#### Generate new sub data sets\n",
    "The input data set consists of a number of statistical data for house pricing in some Californian blocks categorized by the geographical location:\n",
    "- Island\n",
    "- Near bay \n",
    "- Near ocean\n",
    "- Inland\n",
    "- Less than 1 hour from ocean"
   ]
  },
  {
   "cell_type": "code",
   "execution_count": 4,
   "metadata": {},
   "outputs": [
    {
     "name": "stdout",
     "output_type": "stream",
     "text": [
      "<class 'pandas.core.frame.DataFrame'>\n",
      "Index: 20433 entries, 0 to 20639\n",
      "Data columns (total 10 columns):\n",
      " #   Column              Non-Null Count  Dtype  \n",
      "---  ------              --------------  -----  \n",
      " 0   longitude           20433 non-null  float64\n",
      " 1   latitude            20433 non-null  float64\n",
      " 2   housing_median_age  20433 non-null  float64\n",
      " 3   total_rooms         20433 non-null  float64\n",
      " 4   total_bedrooms      20433 non-null  float64\n",
      " 5   population          20433 non-null  float64\n",
      " 6   households          20433 non-null  float64\n",
      " 7   median_income       20433 non-null  float64\n",
      " 8   median_house_value  20433 non-null  float64\n",
      " 9   ocean_proximity     20433 non-null  object \n",
      "dtypes: float64(9), object(1)\n",
      "memory usage: 1.7+ MB\n"
     ]
    },
    {
     "data": {
      "text/plain": [
       "ocean_proximity\n",
       "<1H OCEAN     9034\n",
       "INLAND        6496\n",
       "NEAR OCEAN    2628\n",
       "NEAR BAY      2270\n",
       "ISLAND           5\n",
       "Name: count, dtype: int64"
      ]
     },
     "execution_count": 4,
     "metadata": {},
     "output_type": "execute_result"
    }
   ],
   "source": [
    "# Change object type to Categorical. Show some statistics for the category\n",
    "df.loc[:,'ocean_proximity'] = pd.Categorical(df.loc[:,'ocean_proximity'])\n",
    "df.info()\n",
    "df['ocean_proximity'].value_counts()"
   ]
  },
  {
   "cell_type": "code",
   "execution_count": 5,
   "metadata": {},
   "outputs": [],
   "source": [
    "#\n",
    "df_gr   = df.groupby(by='ocean_proximity',observed=True)\n",
    "df_inl  = df_gr.get_group('INLAND')\n",
    "df_nb   = df_gr.get_group('NEAR BAY')\n",
    "df_no   = df_gr.get_group('NEAR OCEAN')\n",
    "df_1ho  = df_gr.get_group('<1H OCEAN')\n",
    "df_is   = df_gr.get_group('ISLAND')\n",
    "\n",
    "\n",
    "# pd.plotting.scatter_matrix(df_inl.drop(columns=['latitude','longitude']), diagonal='hist',alpha=0.4,figsize=(12,12),hist_kwds={'bins':20})\n",
    "p = pd.plotting.scatter_matrix(df_no.drop(columns=['latitude','longitude']), diagonal='hist',alpha=0.4,figsize=(12,12),hist_kwds={'bins':20})\n"
   ]
  },
  {
   "cell_type": "markdown",
   "metadata": {},
   "source": [
    "#### Visualizations"
   ]
  },
  {
   "cell_type": "code",
   "execution_count": 6,
   "metadata": {},
   "outputs": [],
   "source": [
    "# Plot the geographic info separately\n",
    "def plot_vs_geo(df,col_str,title_str):\n",
    "  df_sorted=df.sort_values(by=col_str,ascending=True) # Stack the plot order\n",
    "  ax = df_sorted.plot( label=col_str,kind='scatter',x='longitude',y='latitude', alpha=0.4,s=4,c=col_str, colorbar=True)\n",
    "  ax.set_title(title_str)\n"
   ]
  },
  {
   "cell_type": "code",
   "execution_count": 7,
   "metadata": {},
   "outputs": [],
   "source": [
    "\n",
    "plt.set_cmap('jet')\n",
    "plot_vs_geo(df,'median_house_value','House prices')\n",
    "plot_vs_geo(df,'median_income','Income')\n",
    "plot_vs_geo(df,'housing_median_age','House age')\n",
    "# plot_vs_geo(df,'ocean_proximity')\n",
    "plot_vs_geo(df,'total_bedrooms','Bedrooms')\n"
   ]
  },
  {
   "cell_type": "markdown",
   "metadata": {},
   "source": [
    "One clear trend is that the house prices increases when area is close to ocean, bay or larger cities, probably San Fransico bay area and Los Angeles. The income seems to be higher in the larger cities as expected."
   ]
  },
  {
   "cell_type": "markdown",
   "metadata": {},
   "source": [
    "#### Data cross correlation"
   ]
  },
  {
   "cell_type": "code",
   "execution_count": 8,
   "metadata": {},
   "outputs": [],
   "source": [
    "cc=df[col_cat]\n",
    "corr = cc.corr()\n",
    "s = sns.heatmap(corr, cmap=\"coolwarm\", annot=True)"
   ]
  },
  {
   "cell_type": "code",
   "execution_count": 9,
   "metadata": {},
   "outputs": [
    {
     "data": {
      "text/plain": [
       "(0.0, 15.0)"
      ]
     },
     "execution_count": 9,
     "metadata": {},
     "output_type": "execute_result"
    }
   ],
   "source": [
    "def pplot(df,x_str,y_str,ax,title_str):\n",
    "  x = df.loc[:,x_str].values\n",
    "  y = df.loc[:,y_str].values\n",
    "  ax.plot(x, y, \".\",alpha=0.3)\n",
    "  ax.set_xlabel(x_str)\n",
    "  ax.set_ylabel(y_str)\n",
    "  m, b = np.polyfit(x, y, 1)\n",
    "  ax.plot(x, m*x+b,'r')\n",
    "  ax.set_title(title_str)\n",
    "\n",
    "fig, (ax1,ax2,ax3,ax4) = plt.subplots(ncols=4, nrows=1, figsize=(10, 2.5))\n",
    "pplot(df_inl,'median_income','median_house_value',ax1,'Inland')\n",
    "pplot(df_no,'median_income','median_house_value',ax2,'Near Ocean')\n",
    "pplot(df_nb,'median_income','median_house_value',ax3,'Near Bay')\n",
    "pplot(df_1ho,'median_income','median_house_value',ax4,'<1h Ocean')\n",
    "ax1.set_ylim([0,510000])\n",
    "ax1.set_xlim([0,15])\n",
    "ax2.set_ylim([0,510000])\n",
    "ax2.set_xlim([0,15])\n",
    "ax3.set_ylim([0,510000])\n",
    "ax3.set_xlim([0,15])\n",
    "ax4.set_ylim([0,510000])\n",
    "ax4.set_xlim([0,15])\n"
   ]
  },
  {
   "cell_type": "markdown",
   "metadata": {},
   "source": [
    "The house value is clamped at ~500.000$ giving a weird linear fit. Try to remove those values."
   ]
  },
  {
   "cell_type": "code",
   "execution_count": 10,
   "metadata": {},
   "outputs": [
    {
     "data": {
      "text/plain": [
       "(0.0, 15.0)"
      ]
     },
     "execution_count": 10,
     "metadata": {},
     "output_type": "execute_result"
    }
   ],
   "source": [
    "df_inl_c = df_inl[df_inl.median_house_value < 480000]\n",
    "df_no_c = df_no[df_no.median_house_value < 480000]\n",
    "df_nb_c = df_nb[df_nb.median_house_value < 480000]\n",
    "df_1ho_c = df_1ho[df_1ho.median_house_value < 480000]\n",
    "fig, (ax1,ax2,ax3,ax4) = plt.subplots(ncols=4, nrows=1, figsize=(10, 2.5))\n",
    "pplot(df_inl_c,'median_income','median_house_value',ax1,'Inland')\n",
    "pplot(df_no_c,'median_income','median_house_value',ax2,'Near Ocean')\n",
    "pplot(df_nb_c,'median_income','median_house_value',ax3,'Near Bay')\n",
    "pplot(df_1ho_c,'median_income','median_house_value',ax4,'<1h Ocean')\n",
    "ax1.set_ylim([0,510000])\n",
    "ax1.set_xlim([0,15])\n",
    "ax2.set_ylim([0,510000])\n",
    "ax2.set_xlim([0,15])\n",
    "ax3.set_ylim([0,510000])\n",
    "ax3.set_xlim([0,15])\n",
    "ax4.set_ylim([0,510000])\n",
    "ax4.set_xlim([0,15])\n"
   ]
  },
  {
   "cell_type": "markdown",
   "metadata": {},
   "source": [
    "The scatterplot looks nicer but the linear fit still seems to be a bit strange ..."
   ]
  },
  {
   "cell_type": "code",
   "execution_count": 11,
   "metadata": {},
   "outputs": [],
   "source": [
    "# Just for fun try seaborn plots\n",
    "s=sns.lmplot(df,y='median_house_value',x='median_income',hue='ocean_proximity')\n"
   ]
  },
  {
   "cell_type": "markdown",
   "metadata": {},
   "source": [
    "#### Självutvärdering\n",
    "1. Har något varit utmanande i kunskapskontrollen? Om ja, hur har du hanterat det? \n",
    "> Inget speciellt, har lång erfarenhet från Matlab och har \"fuskat\" lite med Python innan så det var hyfsat rättfram. Det finns en rätt bra cheat sheet för Matlab<-> numPy ;)\n",
    "2. Vilket betyg anser du att du ska ha och varför?\n",
    "> Tycker nog ändå VG - har försökt att följa rekommederat arbetssätt vid EDA och har gjort en del egna funktioner för att få fram bra visualiseringar.\n",
    "3. Något du vill lyfta fram till Antonio? \n",
    "> Nej, inget för den här delkursen \n",
    "\n",
    "\n"
   ]
  },
  {
   "cell_type": "markdown",
   "metadata": {},
   "source": []
  }
 ],
 "metadata": {
  "kernelspec": {
   "display_name": "base",
   "language": "python",
   "name": "python3"
  },
  "language_info": {
   "codemirror_mode": {
    "name": "ipython",
    "version": 3
   },
   "file_extension": ".py",
   "mimetype": "text/x-python",
   "name": "python",
   "nbconvert_exporter": "python",
   "pygments_lexer": "ipython3",
   "version": "3.12.7"
  }
 },
 "nbformat": 4,
 "nbformat_minor": 2
}
