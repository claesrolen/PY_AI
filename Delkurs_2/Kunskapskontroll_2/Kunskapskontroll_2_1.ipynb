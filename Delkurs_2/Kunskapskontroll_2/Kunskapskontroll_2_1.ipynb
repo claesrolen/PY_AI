{
 "cells": [
  {
   "cell_type": "markdown",
   "metadata": {},
   "source": [
    "# Frågor\n",
    "1. Lotta delar upp sin data i ”Träning”, ”Validering” och ”Test”, vad används respektive del för?\n",
    "> *Träning + Validering (~70-90% av totala datan) används för att 'tuna' modellen - med K-fold kan man ibland betrakta träning+validering som ett block som delas upp ytterligare. Det normala är dock att man delar in det i en träningdel ~70% och den resterande delen används för att validera modellen. Test används endast för att verifiera den slutliga modellen med helt osedda data.*\n",
    "2. Förklara (gärna med ett exempel): Ordinal encoding, one-hot encoding, dummy variable encoding.\n",
    "> **Ordinal** - Kategorisk data som har en inbördes ordning (ranking), dvs. att värden kan tolkas med en naturlig prioritet.\n",
    ">  | Elev   | Betyg  | *enc* |\n",
    ">  |--------|--------|-------|\n",
    ">  | Ada    | G      |  1    |\n",
    ">  | Beda   | MVG    |  3    |\n",
    ">  | Kal    | VG     |  2    |\n",
    ">  | Osborn | G      |  1    |\n",
    "\n",
    "**One-Hot-encoding** - Data som INTE har en inbördes ordning (nominal).\n",
    ">  | Modell| Färg  | *enc* |\n",
    ">  |-------|-------|-------|\n",
    ">  | Volvo | röd   | 0 0 1 |\n",
    ">  | BMW   | grön  | 0 1 0 |\n",
    ">  | VW    | röd   | 0 0 1 |\n",
    ">  | Fiat  | blå   | 1 0 0 |\n",
    "\n",
    "**Dummy** - Som One-Hot-encoding fast en dimension färre, behövs för linjär regression för att undvika singulära indata-matriser\n",
    ">  | Modell| Färg  | *enc* |\n",
    ">  |-------|-------|-------|\n",
    ">  | Volvo | röd   |   0 1 |\n",
    ">  | BMW   | grön  |   1 0 |\n",
    ">  | VW    | röd   |   1 1 |\n",
    ">  | Fiat  | blå   |   0 1 |\n",
    ">\n",
    "\n",
    "3. Göran påstår att datan antingen är ”ordinal” eller ”nominal”. Julia säger att detta måste tolkas. Hon ger ett exempel med att färger såsom {röd, grön, blå} generellt sett inte har någon inbördes ordning (nominal) men om du har en röd skjorta så är du vackrast på festen (ordinal) – vem har rätt?\n",
    "> Göran har mest rätt - generellt sett kan man alltid dela in det i ett fack, men man måste även lägga en fundering på om det finns någon underförstådd korrelation så Julia har delvis rätt också. \n",
    "4. Läs följande länk: https://stackoverflow.com/questions/56107259/how-to-save-a-trained-model-by-scikit-learn (speciellt svaret från användaren som heter ”sentence”) som beskriver ”joblib” och ”pickle”. Det är alltså ett sätt att spara modeller och innebär att man kan träna en modell och sedan återanvända den för att göra prediktioner utan att behöva träna om modellen. Detta kommer ni ha nytta av om ni satsar på VG delen. Svara på frågan: Vad används joblib och pickle till?\n",
    "> Det är bibliotek som används just för att serialisera object och spara dem till fil så att man kan återanvända dem när man vill. Detta är bra för att spara tidsödande modellering/träning och sedan återanvända dem."
   ]
  }
 ],
 "metadata": {
  "kernelspec": {
   "display_name": "base",
   "language": "python",
   "name": "python3"
  },
  "language_info": {
   "codemirror_mode": {
    "name": "ipython",
    "version": 3
   },
   "file_extension": ".py",
   "mimetype": "text/x-python",
   "name": "python",
   "nbconvert_exporter": "python",
   "pygments_lexer": "ipython3",
   "version": "3.12.8"
  }
 },
 "nbformat": 4,
 "nbformat_minor": 2
}
