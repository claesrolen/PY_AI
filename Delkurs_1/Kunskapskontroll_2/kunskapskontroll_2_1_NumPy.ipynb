{
 "cells": [
  {
   "cell_type": "markdown",
   "id": "dacf74e6",
   "metadata": {},
   "source": [
    "# NumPy"
   ]
  },
  {
   "cell_type": "markdown",
   "id": "01b2bf34",
   "metadata": {},
   "source": [
    "Read the links: https://numpy.org/doc/stable/user/quickstart.html  and https://numpy.org/doc/stable/user/basics.broadcasting.html  before solving the exercises. "
   ]
  },
  {
   "cell_type": "code",
   "execution_count": 1,
   "id": "1f79e4a6",
   "metadata": {},
   "outputs": [],
   "source": [
    "import numpy as np\n",
    "np.set_printoptions(suppress=True)"
   ]
  },
  {
   "cell_type": "markdown",
   "id": "7dae6889",
   "metadata": {},
   "source": [
    "### Print out the dimension (number of axes), shape, size and the datatype of the matrix A."
   ]
  },
  {
   "cell_type": "code",
   "execution_count": 2,
   "id": "7b3678cd",
   "metadata": {},
   "outputs": [
    {
     "data": {
      "text/plain": [
       "array([[ 1,  2,  3,  4,  5],\n",
       "       [ 6,  7,  8,  9, 10],\n",
       "       [11, 12, 13, 14, 15]])"
      ]
     },
     "execution_count": 2,
     "metadata": {},
     "output_type": "execute_result"
    }
   ],
   "source": [
    "A = np.arange(1, 16).reshape(3,5)\n",
    "A"
   ]
  },
  {
   "cell_type": "code",
   "execution_count": 3,
   "id": "31d39235",
   "metadata": {},
   "outputs": [
    {
     "name": "stdout",
     "output_type": "stream",
     "text": [
      "Dimensions: 2\n",
      "Shape: (3, 5)\n",
      "Size: 15\n",
      "Type: int64\n"
     ]
    }
   ],
   "source": [
    "\n",
    "print(f\"Dimensions: {A.ndim}\")\n",
    "print(f\"Shape: {A.shape}\")\n",
    "print(f\"Size: {A.size}\")\n",
    "print(f\"Type: {A.dtype}\")"
   ]
  },
  {
   "cell_type": "markdown",
   "id": "e56d2a96",
   "metadata": {},
   "source": [
    "### Do the following computations on the matrices B and C: \n",
    "* Elementwise subtraction. \n",
    "* Elementwise multiplication. \n",
    "* Matrix multiplication (by default you should use the @ operator)."
   ]
  },
  {
   "cell_type": "code",
   "execution_count": 4,
   "id": "a7053fbb",
   "metadata": {},
   "outputs": [
    {
     "name": "stdout",
     "output_type": "stream",
     "text": [
      "[[1 2 3]\n",
      " [4 5 6]\n",
      " [7 8 9]]\n",
      "\n",
      "[[2. 2. 2.]\n",
      " [2. 2. 2.]\n",
      " [2. 2. 2.]]\n"
     ]
    }
   ],
   "source": [
    "B = np.arange(1, 10).reshape(3, 3)\n",
    "C = np.ones((3, 3))*2\n",
    "\n",
    "print(B)\n",
    "print()\n",
    "print(C)"
   ]
  },
  {
   "cell_type": "code",
   "execution_count": 5,
   "id": "3cd794ae",
   "metadata": {},
   "outputs": [
    {
     "name": "stdout",
     "output_type": "stream",
     "text": [
      "Elementwise subtraction B-C: \n",
      "[[-1.  0.  1.]\n",
      " [ 2.  3.  4.]\n",
      " [ 5.  6.  7.]]\n",
      "Elementwise multiplication B*C: \n",
      "[[ 2.  4.  6.]\n",
      " [ 8. 10. 12.]\n",
      " [14. 16. 18.]]\n",
      "Matrix multiplication B@C: \n",
      "[[12. 12. 12.]\n",
      " [30. 30. 30.]\n",
      " [48. 48. 48.]]\n"
     ]
    }
   ],
   "source": [
    "print(f\"Elementwise subtraction B-C: \\n{B-C}\")\n",
    "print(f\"Elementwise multiplication B*C: \\n{B*C}\")\n",
    "print(f\"Matrix multiplication B@C: \\n{B@C}\")\n"
   ]
  },
  {
   "cell_type": "markdown",
   "id": "96030d53",
   "metadata": {},
   "source": [
    "### Do the following calculations on the matrix:\n",
    "* Exponentiate each number elementwise (use the np.exp function).\n",
    "\n",
    "* Calculate the minimum value in the whole matrix. \n",
    "* Calculcate the minimum value in each row. \n",
    "* Calculcate the minimum value in each column. \n",
    "\n",
    "\n",
    "* Find the index value for the minimum value in the whole matrix (hint: use np.argmin).\n",
    "* Find the index value for the minimum value in each row (hint: use np.argmin).\n",
    "\n",
    "\n",
    "* Calculate the sum for all elements.\n",
    "* Calculate the mean for each column. \n",
    "* Calculate the median for each column. "
   ]
  },
  {
   "cell_type": "code",
   "execution_count": 6,
   "id": "f8a9166b",
   "metadata": {},
   "outputs": [
    {
     "name": "stdout",
     "output_type": "stream",
     "text": [
      "[[1 2 3]\n",
      " [4 5 6]\n",
      " [7 8 9]]\n"
     ]
    }
   ],
   "source": [
    "B = np.arange(1, 10).reshape(3, 3)\n",
    "print(B)"
   ]
  },
  {
   "cell_type": "code",
   "execution_count": 7,
   "id": "f03f24f7",
   "metadata": {},
   "outputs": [
    {
     "name": "stdout",
     "output_type": "stream",
     "text": [
      "exp: \n",
      "[[   2.718    7.389   20.086]\n",
      " [  54.598  148.413  403.429]\n",
      " [1096.633 2980.958 8103.084]]\n"
     ]
    }
   ],
   "source": [
    "print(f\"exp: \\n{np.array_str(np.exp(B),precision=3)}\")"
   ]
  },
  {
   "cell_type": "code",
   "execution_count": 8,
   "id": "3af4b62f",
   "metadata": {},
   "outputs": [
    {
     "name": "stdout",
     "output_type": "stream",
     "text": [
      "[[1 2 3]\n",
      " [4 5 6]\n",
      " [7 8 9]]\n",
      "Min - flat: 1\n",
      "Min - Col:  [1 2 3]\n",
      "Min - Row:  [1 4 7]\n"
     ]
    }
   ],
   "source": [
    "print(B)\n",
    "print(f\"Min - flat: {B.min()}\")\n",
    "print(f\"Min - Col:  {B.min(axis=0)}\")\n",
    "print(f\"Min - Row:  {B.min(axis=1)}\")\n"
   ]
  },
  {
   "cell_type": "code",
   "execution_count": 9,
   "id": "7e798c12",
   "metadata": {},
   "outputs": [
    {
     "name": "stdout",
     "output_type": "stream",
     "text": [
      "[[1 2 3]\n",
      " [4 5 6]\n",
      " [7 8 9]]\n",
      "Min index - flat: 0\n",
      "Min index - Row:  [0 0 0]\n"
     ]
    }
   ],
   "source": [
    "# B1=np.array([[7,-4,2],[4,5,6],[1,5,-5]])\n",
    "B1=B\n",
    "print(B1)\n",
    "# print(f\"Min - flat: {np.ravel(B1)[B1.argmin()]}\")\n",
    "print(f\"Min index - flat: {B1.argmin()}\")\n",
    "# print(f\"Min index - Col:  {B1.argmin(axis=0)}\")\n",
    "print(f\"Min index - Row:  {B1.argmin(axis=1)}\")\n"
   ]
  },
  {
   "cell_type": "code",
   "execution_count": 10,
   "id": "ace5a5a4",
   "metadata": {},
   "outputs": [
    {
     "name": "stdout",
     "output_type": "stream",
     "text": [
      "Sum - flat: 45\n",
      "Mean - Col:  [4. 5. 6.]\n",
      "Median - Col:  [4. 5. 6.]\n"
     ]
    }
   ],
   "source": [
    "print(f\"Sum - flat: {B.sum()}\")\n",
    "print(f\"Mean - Col:  {B1.mean(axis=0)}\")\n",
    "print(f\"Median - Col:  {np.median(B1,axis=0)}\")\n",
    "\n"
   ]
  },
  {
   "cell_type": "markdown",
   "id": "541eb7ba",
   "metadata": {},
   "source": [
    "### What does it mean when you provide fewer indices than axes when slicing? See example below."
   ]
  },
  {
   "cell_type": "code",
   "execution_count": 11,
   "id": "9c8abf56",
   "metadata": {},
   "outputs": [
    {
     "name": "stdout",
     "output_type": "stream",
     "text": [
      "[[ 1  2  3  4  5]\n",
      " [ 6  7  8  9 10]\n",
      " [11 12 13 14 15]]\n"
     ]
    }
   ],
   "source": [
    "print(A)"
   ]
  },
  {
   "cell_type": "code",
   "execution_count": 12,
   "id": "69415f7b",
   "metadata": {},
   "outputs": [
    {
     "data": {
      "text/plain": [
       "array([ 6,  7,  8,  9, 10])"
      ]
     },
     "execution_count": 12,
     "metadata": {},
     "output_type": "execute_result"
    }
   ],
   "source": [
    "A[1]"
   ]
  },
  {
   "cell_type": "markdown",
   "id": "6c53541b",
   "metadata": {},
   "source": [
    "**Answer:**"
   ]
  },
  {
   "cell_type": "code",
   "execution_count": 13,
   "id": "de01e120",
   "metadata": {},
   "outputs": [],
   "source": [
    "# It is the same as A[1,:] i.e if the second dimension/axis is omitted it takes the whole row vector 1. If you have A[,1] you will get the whole col vector for the second dimesion at col 1: [2,7,12]"
   ]
  },
  {
   "cell_type": "markdown",
   "id": "6652d0c9",
   "metadata": {},
   "source": [
    "### Iterating over multidimensional arrays is done with respect to the first axis, so in the example below we iterate trough the rows. If you would like to iterate through the array *elementwise*, how would you do that?"
   ]
  },
  {
   "cell_type": "code",
   "execution_count": 14,
   "id": "9459864f",
   "metadata": {},
   "outputs": [
    {
     "data": {
      "text/plain": [
       "array([[ 1,  2,  3,  4,  5],\n",
       "       [ 6,  7,  8,  9, 10],\n",
       "       [11, 12, 13, 14, 15]])"
      ]
     },
     "execution_count": 14,
     "metadata": {},
     "output_type": "execute_result"
    }
   ],
   "source": [
    "A"
   ]
  },
  {
   "cell_type": "code",
   "execution_count": 15,
   "id": "a671bb5a",
   "metadata": {},
   "outputs": [
    {
     "name": "stdout",
     "output_type": "stream",
     "text": [
      "[1 2 3 4 5]\n",
      "[ 6  7  8  9 10]\n",
      "[11 12 13 14 15]\n"
     ]
    }
   ],
   "source": [
    "for i in A:\n",
    "    print(i)"
   ]
  },
  {
   "cell_type": "code",
   "execution_count": 16,
   "id": "f4e443a0",
   "metadata": {},
   "outputs": [
    {
     "name": "stdout",
     "output_type": "stream",
     "text": [
      "1\n",
      "2\n",
      "3\n",
      "4\n",
      "5\n",
      "6\n",
      "7\n",
      "8\n",
      "9\n",
      "10\n",
      "11\n",
      "12\n",
      "13\n",
      "14\n",
      "15\n"
     ]
    }
   ],
   "source": [
    "for i in A.flat:\n",
    "    print(i)"
   ]
  },
  {
   "cell_type": "markdown",
   "id": "608a2583",
   "metadata": {},
   "source": [
    "### Explain what the code below does. More specifically, b has three axes - what does this mean? "
   ]
  },
  {
   "cell_type": "code",
   "execution_count": 17,
   "id": "f8f9b26f",
   "metadata": {},
   "outputs": [
    {
     "name": "stdout",
     "output_type": "stream",
     "text": [
      "[ 0  1  2  3  4  5  6  7  8  9 10 11 12 13 14 15 16 17 18 19 20 21 22 23\n",
      " 24 25 26 27 28 29]\n",
      "\n",
      "[[[ 0  1  2  3  4]\n",
      "  [ 5  6  7  8  9]\n",
      "  [10 11 12 13 14]]\n",
      "\n",
      " [[15 16 17 18 19]\n",
      "  [20 21 22 23 24]\n",
      "  [25 26 27 28 29]]]\n"
     ]
    }
   ],
   "source": [
    "a = np.arange(30)\n",
    "b = a.reshape((2, 3, -1))\n",
    "print(a)\n",
    "print()\n",
    "\n",
    "print(b)"
   ]
  },
  {
   "cell_type": "code",
   "execution_count": 18,
   "id": "863a45df",
   "metadata": {},
   "outputs": [],
   "source": [
    "# a is a 1-dim vector with length 30, b is a reshaped copy with three dimensions - 2 arrays,three rows and the columns is set to -1 for numpy to calculate the dimension (in this case it should have been 5)  "
   ]
  },
  {
   "cell_type": "code",
   "execution_count": null,
   "id": "eed38bbb-dd20-4d23-837f-679aa3d3a067",
   "metadata": {},
   "outputs": [],
   "source": []
  },
  {
   "cell_type": "raw",
   "id": "421c9607-819a-401d-949a-97424436fe29",
   "metadata": {},
   "source": [
    "# For the exercises below, read the document *\"matematik_yh_antonio_vektorer_matriser_utdrag\"*\n",
    "# Solutions to the exercises and recorded videos can be found here: https://github.com/AntonioPrgomet/matematik_foer_yh\n",
    "\n",
    "# If you find the exercises below very hard, do not worry. Try your best, that will be enough. "
   ]
  },
  {
   "cell_type": "markdown",
   "id": "ab5933d5",
   "metadata": {},
   "source": [
    "### Broadcasting\n",
    "**Read the following link about broadcasting: https://numpy.org/doc/stable/user/basics.broadcasting.html#basics-broadcasting**"
   ]
  },
  {
   "cell_type": "markdown",
   "id": "039805ba",
   "metadata": {},
   "source": [
    "# Remark on Broadcasting when doing Linear Algebra calculations in Python. "
   ]
  },
  {
   "cell_type": "markdown",
   "id": "c4bcc147",
   "metadata": {},
   "source": [
    "### From the mathematical rules of matrix addition, the operation below (m1 + m2) does not make sense. The reason is that matrix addition requires two matrices of the same size. In Python however, it works due to broadcasting rules in NumPy. So you must be careful when doing Linear Algebra calculations in Python since they do not follow the \"mathematical rules\". This can however easily be handled by doing some simple programming, for example validating that two matrices have the same shape is easy if you for instance want to add two matrices. "
   ]
  },
  {
   "cell_type": "code",
   "execution_count": 19,
   "id": "1fd46778",
   "metadata": {},
   "outputs": [
    {
     "name": "stdout",
     "output_type": "stream",
     "text": [
      "[[2 3]\n",
      " [4 5]]\n"
     ]
    }
   ],
   "source": [
    "m1 = np.array([[1, 2], [3, 4]])\n",
    "m2 = np.array([1, 1])\n",
    "print(m1 + m2)"
   ]
  },
  {
   "cell_type": "markdown",
   "id": "047d6576",
   "metadata": {},
   "source": [
    "### The example below would also not be allowed if following the \"mathematical rules\" in Linear Algebra. But it works due to broadcasting in NumPy. "
   ]
  },
  {
   "cell_type": "code",
   "execution_count": 20,
   "id": "5e6ef2e4",
   "metadata": {},
   "outputs": [
    {
     "name": "stdout",
     "output_type": "stream",
     "text": [
      "[2 3 4]\n"
     ]
    }
   ],
   "source": [
    "v1 = np.array([1, 2, 3])\n",
    "print(v1 + 1)"
   ]
  },
  {
   "cell_type": "code",
   "execution_count": 21,
   "id": "e2cbae26",
   "metadata": {},
   "outputs": [
    {
     "name": "stdout",
     "output_type": "stream",
     "text": [
      "[[1 2]\n",
      " [3 4]]\n",
      "[2 2]\n"
     ]
    }
   ],
   "source": [
    "A = np.arange(1, 5).reshape(2,2)\n",
    "print(A)\n",
    "\n",
    "b = np.array([2, 2])\n",
    "print(b)"
   ]
  },
  {
   "cell_type": "markdown",
   "id": "722fd5cd",
   "metadata": {},
   "source": [
    "# Vector- and matrix algebra Exercises"
   ]
  },
  {
   "cell_type": "markdown",
   "id": "b63a3081-d976-4d9f-bfd0-a63917e79f7d",
   "metadata": {},
   "source": [
    "**Now you are going to create a function that can be reused every time you add or multiply matrices. The function is created so that we do the addition and multiplication according to the rules of vector- and matrix algebra.**\n",
    "\n",
    "**Create a function \"add_mult_matrices\" that takes two matrices as input arguments (validate that the input are of the type numpy.ndarray by using the isinstance function), a third argument that is either 'add' or 'multiply' that specifies if you want to add or multiply the matrices (validate that the third argument is either 'add' or 'multiply'). When doing matrix addition, validate that the matrices have the same size. When doing matrix multiplication, validate that the sizes conform (i.e. number of columns in the first matrix is equal to the number of rows in the second matrix).**"
   ]
  },
  {
   "cell_type": "code",
   "execution_count": 22,
   "id": "3506f977-ac0a-473f-85bc-eec9f35dc498",
   "metadata": {},
   "outputs": [
    {
     "name": "stdout",
     "output_type": "stream",
     "text": [
      "X1[2x3]=\n",
      "[[1 2 3]\n",
      " [4 5 6]]\n",
      "X2[2x3]=\n",
      "[[1 1 1]\n",
      " [2 2 2]]\n",
      "X3[3x2]=\n",
      "[[1 2]\n",
      " [2 3]\n",
      " [3 4]]\n",
      "\n",
      "X1+X2=\n",
      "[[2 3 4]\n",
      " [6 7 8]]\n",
      "\n",
      "X1@X3=\n",
      "[[14 20]\n",
      " [32 47]]\n"
     ]
    }
   ],
   "source": [
    "def add_mult_matrices(A,B,op):\n",
    "  if isinstance(A, np.ndarray) and isinstance(B, np.ndarray):\n",
    "    A_dim=A.shape\n",
    "    B_dim=B.shape\n",
    "  else: \n",
    "    raise TypeError(\"Sorry, A and B input needs to be numpy array types\")\n",
    "  \n",
    "  match op:\n",
    "    case 'add':\n",
    "      if A_dim != B_dim:\n",
    "        raise Exception(\"Wrong dimensions, can't do addition\")\n",
    "      return A+B\n",
    "    case 'multiply':\n",
    "      if A_dim[1] != B_dim[0]:\n",
    "        raise Exception(\"Wrong dimensions, can't do multiplication\")\n",
    "      return A@B\n",
    "    case _:\n",
    "      raise Exception(\"Sorry, you need to specify operation [add|multiply]\")\n",
    "\n",
    "X1=np.array([[1,2,3],[4,5,6]])\n",
    "X2=np.array([[1,1,1],[2,2,2]])\n",
    "X3=np.array([[1,2],[2,3],[3,4]])\n",
    "\n",
    "print(f\"X1[{X1.shape[0]}x{X1.shape[1]}]=\\n{X1}\")\n",
    "print(f\"X2[{X2.shape[0]}x{X2.shape[1]}]=\\n{X2}\")\n",
    "print(f\"X3[{X3.shape[0]}x{X3.shape[1]}]=\\n{X3}\")\n",
    "print()\n",
    "print(f\"X1+X2=\\n{add_mult_matrices(X1,X2,'add')}\")\n",
    "print()\n",
    "print(f\"X1@X3=\\n{add_mult_matrices(X1,X3,'multiply')}\")\n"
   ]
  },
  {
   "cell_type": "markdown",
   "id": "8dad82d0-2359-4dff-8f5b-a57d3e34103c",
   "metadata": {},
   "source": [
    "### Solve all the exercises in chapter 10.1 in the book \"Matematik för yrkeshögskolan\". "
   ]
  },
  {
   "cell_type": "code",
   "execution_count": 23,
   "id": "89df88af-3668-4d98-a0a4-e6d92eea0f89",
   "metadata": {},
   "outputs": [
    {
     "name": "stdout",
     "output_type": "stream",
     "text": [
      "10.1.1:\n",
      "--------------\n",
      "x = [[4 3]]\n",
      "\n",
      "(a) Dimension of x is (1, 2)\n",
      "\n",
      "(b)      5x = [[20 15]]\n",
      "\n",
      "(c)      3x = [[12  9]]\n",
      "\n",
      "(d)   5x+3x = [[32 24]]\n",
      "\n",
      "(e)      8x = [[32 24]]\n",
      "\n",
      "(f)    4x-x = [[12  9]]\n",
      "\n",
      "(g)     x.T =\n",
      "[[4]\n",
      " [3]]\n",
      "      Dimension of x.T = (2, 1)\n",
      "\n",
      "(h)   x+x.T = is undefined since they have different shape [1x2] vs. [2x1]\n",
      "\n",
      "(i)   ||x|| = 5.0 or using sqrt(x*x.T) = [[5.]] ... [1x2][2x1]->[1x1]\n"
     ]
    }
   ],
   "source": [
    "print(\"10.1.1:\")\n",
    "print(\"--------------\")\n",
    "x=np.array([[4,3]])\n",
    "print(f\"x = {x}\")\n",
    "print(f\"\\n(a) Dimension of x is {x.shape}\")\n",
    "print(f\"\\n(b)      5x = {5*x}\")\n",
    "print(f\"\\n(c)      3x = {3*x}\")\n",
    "print(f\"\\n(d)   5x+3x = {5*x+3*x}\")\n",
    "print(f\"\\n(e)      8x = {8*x}\")\n",
    "print(f\"\\n(f)    4x-x = {4*x-x}\")\n",
    "print(f\"\\n(g)     x.T =\\n{x.T}\\n      Dimension of x.T = {(x.T).shape}\")\n",
    "print(f\"\\n(h)   x+x.T = is undefined since they have different shape [1x2] vs. [2x1]\")\n",
    "print(f\"\\n(i)   ||x|| = {np.linalg.norm(x)} or using sqrt(x*x.T) = {np.sqrt(x@x.T)} ... [1x2][2x1]->[1x1]\")\n"
   ]
  },
  {
   "cell_type": "code",
   "execution_count": 24,
   "id": "2318a7dd",
   "metadata": {},
   "outputs": [
    {
     "name": "stdout",
     "output_type": "stream",
     "text": [
      "10.1.2:\n",
      "--------------\n",
      "v =\n",
      "[[ 3]\n",
      " [ 7]\n",
      " [ 0]\n",
      " [11]]\n",
      "\n",
      "(a) Dimension of v is (4, 1)\n",
      "\n",
      "(b)     2v =\n",
      "[[ 6]\n",
      " [14]\n",
      " [ 0]\n",
      " [22]]\n",
      "\n",
      "(c)  5v+2v =\n",
      "[[21]\n",
      " [49]\n",
      " [ 0]\n",
      " [77]]\n",
      "\n",
      "(d)  4v-2v =\n",
      "[[ 6]\n",
      " [14]\n",
      " [ 0]\n",
      " [22]]\n",
      "\n",
      "(e)    v.T =\n",
      "[[ 3  7  0 11]]\n",
      "      Dimension of v.T = (1, 4)\n",
      "\n",
      "(f)  ||v|| = 13.379088160259652 or using sqrt(v.T@v) = [[13.37908816]] ... [1x4][4x1]->[1x1]\n"
     ]
    }
   ],
   "source": [
    "print(\"10.1.2:\")\n",
    "print(\"--------------\")\n",
    "v=np.array([[3,7,0,11]]).T\n",
    "print(f\"v =\\n{v}\")\n",
    "print(f\"\\n(a) Dimension of v is {v.shape}\")\n",
    "print(f\"\\n(b)     2v =\\n{2*v}\")\n",
    "print(f\"\\n(c)  5v+2v =\\n{5*v+2*v}\")\n",
    "print(f\"\\n(d)  4v-2v =\\n{4*v-2*v}\")\n",
    "print(f\"\\n(e)    v.T =\\n{v.T}\\n      Dimension of v.T = {(v.T).shape}\")\n",
    "print(f\"\\n(f)  ||v|| = {np.linalg.norm(v)} or using sqrt(v.T@v) = {np.sqrt(v.T@v)} ... [1x4][4x1]->[1x1]\")\n"
   ]
  },
  {
   "cell_type": "markdown",
   "id": "75c98984-1f88-4df1-b850-d2466de444a5",
   "metadata": {},
   "source": [
    "### Solve all the exercises, except 10.2.4, in chapter 10.2 in the book \"Matematik för yrkeshögskolan\". "
   ]
  },
  {
   "cell_type": "code",
   "execution_count": 25,
   "id": "65371610-16e1-48b2-b7fb-65e49002608a",
   "metadata": {},
   "outputs": [
    {
     "name": "stdout",
     "output_type": "stream",
     "text": [
      "10.2.1:\n",
      "--------------\n",
      "A =\n",
      "[[ 2  1 -1]\n",
      " [ 1 -1  1]]\n",
      "B =\n",
      "[[ 4 -2  1]\n",
      " [ 2 -4 -2]]\n",
      "C =\n",
      "[[1 2]\n",
      " [2 1]]\n",
      "D =\n",
      "[[3 4]\n",
      " [4 3]]\n",
      "E =\n",
      "[[1]\n",
      " [2]]\n",
      "I =\n",
      "[[1 0]\n",
      " [0 1]]\n",
      "\n",
      "(a)        2A = \n",
      "[[ 4  2 -2]\n",
      " [ 2 -2  2]]\n",
      "\n",
      "(b)      B-2A = \n",
      "[[ 0 -4  3]\n",
      " [ 0 -2 -4]]\n",
      "\n",
      "(c)     3C-2E = Not defined mathematically ... but with broadcasting (over cols) in Python: \n",
      "[[ 1  4]\n",
      " [ 2 -1]]\n",
      "\n",
      "(d)     2D-3C = \n",
      "[[3 2]\n",
      " [2 3]]\n",
      "\n",
      "(e)    D.T+2D = \n",
      "[[ 9 12]\n",
      " [12  9]]\n",
      "\n",
      "(f) 2C.T-2D.T = \n",
      "[[-4 -4]\n",
      " [-4 -4]]\n",
      "\n",
      "(g)     A.T-B = Not defined mathematically  ... not possible to broadcast\n",
      "\n",
      "(h)       A*C = Not defined mathematically (2, 3) x (2, 2)\n",
      "\n",
      "(i)       C*D = (2, 2) x (2, 2)\n",
      "[[11 10]\n",
      " [10 11]]\n",
      "\n",
      "(j)       C*B = (2, 2) x (2, 3)\n",
      "[[  8 -10  -3]\n",
      " [ 10  -8   0]]\n",
      "\n",
      "(k)       C*I = (2, 2) x (2, 2)\n",
      "[[1 2]\n",
      " [2 1]]\n",
      "\n",
      "(l)     A*B.T = (2, 3) x (3, 2)\n",
      "[[5 2]\n",
      " [7 4]]\n"
     ]
    }
   ],
   "source": [
    "print(\"10.2.1:\")\n",
    "print(\"--------------\")\n",
    "A=np.array([[2,1,-1],[1,-1,1]])\n",
    "B=np.array([[4,-2,1],[2,-4,-2]])\n",
    "C=np.array([[1,2],[2,1]])\n",
    "D=np.array([[3,4],[4,3]])\n",
    "E=np.array([[1],[2]])\n",
    "I=np.array([[1,0],[0,1]])\n",
    "\n",
    "\n",
    "print(f\"A =\\n{A}\")\n",
    "print(f\"B =\\n{B}\")\n",
    "print(f\"C =\\n{C}\")\n",
    "print(f\"D =\\n{D}\")\n",
    "print(f\"E =\\n{E}\")\n",
    "print(f\"I =\\n{I}\")\n",
    "\n",
    "\n",
    "print(f\"\\n(a)        2A = \\n{2*A}\")\n",
    "print(f\"\\n(b)      B-2A = \\n{B-2*A}\")\n",
    "print(f\"\\n(c)     3C-2E = Not defined mathematically ... but with broadcasting (over cols) in Python: \\n{3*C-2*E}\")\n",
    "print(f\"\\n(d)     2D-3C = \\n{2*D-3*C}\")\n",
    "print(f\"\\n(e)    D.T+2D = \\n{D.T+2*D}\")\n",
    "print(f\"\\n(f) 2C.T-2D.T = \\n{2*C.T-2*D.T}\")\n",
    "print(f\"\\n(g)     A.T-B = Not defined mathematically  ... not possible to broadcast\")\n",
    "print(f\"\\n(h)       A*C = Not defined mathematically {A.shape} x {C.shape}\")\n",
    "print(f\"\\n(i)       C*D = {C.shape} x {D.shape}\\n{C@D}\")\n",
    "print(f\"\\n(j)       C*B = {C.shape} x {B.shape}\\n{C@B}\")\n",
    "print(f\"\\n(k)       C*I = {C.shape} x {I.shape}\\n{C@I}\")\n",
    "print(f\"\\n(l)     A*B.T = {A.shape} x {B.T.shape}\\n{A@B.T}\")\n"
   ]
  },
  {
   "cell_type": "code",
   "execution_count": 26,
   "id": "971c4822",
   "metadata": {},
   "outputs": [
    {
     "name": "stdout",
     "output_type": "stream",
     "text": [
      "10.2.2:\n",
      "--------------\n",
      "A =\n",
      "[[2 3 4]\n",
      " [5 4 1]]\n",
      "\n",
      "(j)     A*A.T = (2, 3) x (3, 2)\n",
      "[[29 26]\n",
      " [26 42]]\n"
     ]
    }
   ],
   "source": [
    "print(\"10.2.2:\")\n",
    "print(\"--------------\")\n",
    "A=np.array([[2,3,4],[5,4,1]])\n",
    "print(f\"A =\\n{A}\")\n",
    "print(f\"\\n(j)     A*A.T = {A.shape} x {A.T.shape}\\n{A@A.T}\")\n"
   ]
  },
  {
   "cell_type": "code",
   "execution_count": 27,
   "id": "ebc547b3",
   "metadata": {},
   "outputs": [
    {
     "name": "stdout",
     "output_type": "stream",
     "text": [
      "10.2.3:\n",
      "--------------\n",
      "A =\n",
      "[[1 2]\n",
      " [2 4]]\n",
      "B =\n",
      "[[2 1]\n",
      " [1 3]]\n",
      "C =\n",
      "[[4 3]\n",
      " [0 2]]\n",
      "\n",
      "     A*B = (2, 2) x (2, 2)\n",
      "[[ 4  7]\n",
      " [ 8 14]]\n",
      "\n",
      "     A*C = (2, 2) x (2, 2)\n",
      "[[ 4  7]\n",
      " [ 8 14]]\n",
      "Is B == C ? Check using norm(B-C): 3.1622776601683795 > 0, i.e B!=C\n"
     ]
    }
   ],
   "source": [
    "print(\"10.2.3:\")\n",
    "print(\"--------------\")\n",
    "A=np.array([[1,2],[2,4]])\n",
    "B=np.array([[2,1],[1,3]])\n",
    "C=np.array([[4,3],[0,2]])\n",
    "print(f\"A =\\n{A}\")\n",
    "print(f\"B =\\n{B}\")\n",
    "print(f\"C =\\n{C}\")\n",
    "\n",
    "print(f\"\\n     A*B = {A.shape} x {B.shape}\\n{A@B}\")\n",
    "print(f\"\\n     A*C = {A.shape} x {C.shape}\\n{A@C}\")\n",
    "print(f\"Is B == C ? Check using norm(B-C): {np.linalg.norm(B-C)} > 0, i.e B!=C\")\n"
   ]
  },
  {
   "cell_type": "code",
   "execution_count": 28,
   "id": "cf9daef9",
   "metadata": {},
   "outputs": [
    {
     "name": "stdout",
     "output_type": "stream",
     "text": [
      "10.2.4:(bonus)\n",
      "--------------\n",
      "Ax=b\n",
      "A = (4, 3)\n",
      "[[3 2 4]\n",
      " [2 3 8]\n",
      " [4 1 3]\n",
      " [7 1 5]]\n",
      "b = (4, 1)\n",
      "[[ 7]\n",
      " [ 4]\n",
      " [11]\n",
      " [ 9]]\n"
     ]
    }
   ],
   "source": [
    "print(\"10.2.4:(bonus)\")\n",
    "print(\"--------------\")\n",
    "\n",
    "print(\"Ax=b\")\n",
    "\n",
    "A=np.array([[3,2,4],[2,3,8],[4,1,3],[7,1,5]])\n",
    "b=np.array([[7],[4],[11],[9]])\n",
    "print(f\"A = {A.shape}\\n{A}\")\n",
    "print(f\"b = {b.shape}\\n{b}\")\n"
   ]
  },
  {
   "cell_type": "markdown",
   "id": "6a4a524f",
   "metadata": {},
   "source": [
    "### Copies and Views\n",
    "Read the following link: https://numpy.org/doc/stable/user/basics.copies.html"
   ]
  },
  {
   "cell_type": "markdown",
   "id": "6cbbeaf7",
   "metadata": {},
   "source": [
    "**Basic indexing creates a view, How can you check if v1 and v2 is a view or copy? If you change the last element in v2 to 123, will the last element in v1 be changed? Why?**"
   ]
  },
  {
   "cell_type": "code",
   "execution_count": 29,
   "id": "5b9ef4df",
   "metadata": {},
   "outputs": [
    {
     "name": "stdout",
     "output_type": "stream",
     "text": [
      "[0 1 2 3]\n",
      "[2 3]\n"
     ]
    }
   ],
   "source": [
    "v1 = np.arange(4)\n",
    "v2 = v1[-2:]\n",
    "print(v1)\n",
    "print(v2)"
   ]
  },
  {
   "cell_type": "code",
   "execution_count": 30,
   "id": "d2440489",
   "metadata": {},
   "outputs": [
    {
     "name": "stdout",
     "output_type": "stream",
     "text": [
      "None\n",
      "[0 1 2 3]\n"
     ]
    }
   ],
   "source": [
    "# The base attribute of a view returns the original array while it returns None for a copy.\n",
    "print(v1.base)\n",
    "print(v2.base)"
   ]
  },
  {
   "cell_type": "code",
   "execution_count": 31,
   "id": "c8752807",
   "metadata": {},
   "outputs": [
    {
     "name": "stdout",
     "output_type": "stream",
     "text": [
      "[  0   1   2 123]\n",
      "[  2 123]\n"
     ]
    }
   ],
   "source": [
    "# The last element in v1 will be changed aswell since v2 is a view, meaning they share the same data buffer.\n",
    "v2[-1] = 123\n",
    "print(v1)\n",
    "print(v2)\n"
   ]
  },
  {
   "cell_type": "code",
   "execution_count": null,
   "id": "3dd68221",
   "metadata": {},
   "outputs": [],
   "source": []
  }
 ],
 "metadata": {
  "kernelspec": {
   "display_name": "usr",
   "language": "python",
   "name": "python3"
  },
  "language_info": {
   "codemirror_mode": {
    "name": "ipython",
    "version": 3
   },
   "file_extension": ".py",
   "mimetype": "text/x-python",
   "name": "python",
   "nbconvert_exporter": "python",
   "pygments_lexer": "ipython3",
   "version": "3.11.2"
  }
 },
 "nbformat": 4,
 "nbformat_minor": 5
}
